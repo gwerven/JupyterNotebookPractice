{
 "cells": [
  {
   "cell_type": "code",
   "execution_count": 1,
   "metadata": {},
   "outputs": [],
   "source": [
    "import numpy"
   ]
  },
  {
   "cell_type": "code",
   "execution_count": 2,
   "metadata": {},
   "outputs": [],
   "source": [
    "speed = [99,86,87,88,111,86,103,87,94,78,77,85,86]"
   ]
  },
  {
   "cell_type": "code",
   "execution_count": 3,
   "metadata": {},
   "outputs": [],
   "source": [
    "x = numpy.mean(speed)"
   ]
  },
  {
   "cell_type": "code",
   "execution_count": 4,
   "metadata": {},
   "outputs": [
    {
     "name": "stdout",
     "output_type": "stream",
     "text": [
      "89.76923076923077\n"
     ]
    }
   ],
   "source": [
    "print(x)"
   ]
  },
  {
   "cell_type": "code",
   "execution_count": 6,
   "metadata": {},
   "outputs": [],
   "source": [
    "y = numpy.median(speed)"
   ]
  },
  {
   "cell_type": "code",
   "execution_count": 7,
   "metadata": {},
   "outputs": [
    {
     "name": "stdout",
     "output_type": "stream",
     "text": [
      "87.0\n"
     ]
    }
   ],
   "source": [
    "print(y)"
   ]
  },
  {
   "cell_type": "code",
   "execution_count": 8,
   "metadata": {},
   "outputs": [],
   "source": [
    "from scipy import stats"
   ]
  },
  {
   "cell_type": "code",
   "execution_count": 9,
   "metadata": {},
   "outputs": [],
   "source": [
    "z = stats.mode(speed)"
   ]
  },
  {
   "cell_type": "code",
   "execution_count": 10,
   "metadata": {},
   "outputs": [
    {
     "name": "stdout",
     "output_type": "stream",
     "text": [
      "ModeResult(mode=array([86]), count=array([3]))\n"
     ]
    }
   ],
   "source": [
    "print(z)"
   ]
  },
  {
   "cell_type": "code",
   "execution_count": 11,
   "metadata": {},
   "outputs": [],
   "source": [
    "a = numpy.std(speed)"
   ]
  },
  {
   "cell_type": "code",
   "execution_count": 12,
   "metadata": {},
   "outputs": [
    {
     "name": "stdout",
     "output_type": "stream",
     "text": [
      "9.258292301032677\n"
     ]
    }
   ],
   "source": [
    "print(a)"
   ]
  },
  {
   "cell_type": "code",
   "execution_count": 13,
   "metadata": {},
   "outputs": [],
   "source": [
    "b = numpy.var(speed)"
   ]
  },
  {
   "cell_type": "code",
   "execution_count": 14,
   "metadata": {},
   "outputs": [
    {
     "name": "stdout",
     "output_type": "stream",
     "text": [
      "85.71597633136093\n"
     ]
    }
   ],
   "source": [
    "print(b)"
   ]
  },
  {
   "cell_type": "code",
   "execution_count": 15,
   "metadata": {},
   "outputs": [],
   "source": [
    "c = numpy.percentile(speed, 75)"
   ]
  },
  {
   "cell_type": "code",
   "execution_count": 16,
   "metadata": {},
   "outputs": [
    {
     "name": "stdout",
     "output_type": "stream",
     "text": [
      "94.0\n"
     ]
    }
   ],
   "source": [
    "print(c)"
   ]
  },
  {
   "cell_type": "code",
   "execution_count": 17,
   "metadata": {},
   "outputs": [],
   "source": [
    "c = numpy.percentile(speed, 90)"
   ]
  },
  {
   "cell_type": "code",
   "execution_count": 18,
   "metadata": {},
   "outputs": [
    {
     "name": "stdout",
     "output_type": "stream",
     "text": [
      "102.2\n"
     ]
    }
   ],
   "source": [
    "print(c)"
   ]
  },
  {
   "cell_type": "code",
   "execution_count": 19,
   "metadata": {},
   "outputs": [
    {
     "name": "stdout",
     "output_type": "stream",
     "text": [
      "102.2\n"
     ]
    }
   ],
   "source": [
    "print(c)"
   ]
  },
  {
   "cell_type": "code",
   "execution_count": 20,
   "metadata": {},
   "outputs": [],
   "source": [
    "x = numpy.random.uniform(0.0, 5.0, 250)"
   ]
  },
  {
   "cell_type": "code",
   "execution_count": 21,
   "metadata": {},
   "outputs": [
    {
     "name": "stdout",
     "output_type": "stream",
     "text": [
      "[1.75921267 3.0422095  4.21278373 1.54315523 2.42108638 0.67709085\n",
      " 0.27730974 2.71800811 3.1870721  2.76928838 4.60560581 4.84064667\n",
      " 0.38463214 0.83959321 2.82579707 0.76085243 2.57748043 3.47792016\n",
      " 2.32579516 4.05870626 0.49698313 4.90035595 1.5992976  2.56333888\n",
      " 2.43944075 4.41736541 2.58058902 0.56893331 0.9558965  3.1033501\n",
      " 3.97715447 1.7470651  4.17629492 1.62037563 3.64956989 1.80703883\n",
      " 0.42104833 4.19374026 3.44810608 4.2106043  0.53427224 4.90050124\n",
      " 1.9999983  3.4750108  0.98207811 3.87736881 1.04665385 2.07157369\n",
      " 1.65924056 4.55873664 4.42451281 2.83108281 0.01641939 2.93665925\n",
      " 0.63096481 2.257981   0.99617328 3.51102203 4.9203414  1.64314164\n",
      " 0.36103463 4.02322286 2.73980311 3.72605707 0.40777348 1.09834441\n",
      " 2.62705783 0.41608136 4.16422296 4.50091394 1.53672964 3.37596764\n",
      " 2.90771111 2.52021677 1.47621149 2.99290113 4.49450871 2.33007062\n",
      " 3.89234577 4.80577962 3.85708798 1.08979003 1.17323685 3.14386808\n",
      " 3.55633293 3.15287129 2.1251033  0.32341029 4.49043435 3.98554691\n",
      " 3.73575136 3.60327206 2.38741738 3.24630148 1.26529725 0.5353337\n",
      " 3.97170057 1.37276441 1.16666486 3.96305801 1.34413608 2.0538543\n",
      " 1.18504644 0.88768575 0.94538406 3.87619111 0.53906321 0.54006508\n",
      " 4.45328649 1.21237614 0.28153426 4.18653455 3.53211114 2.78850675\n",
      " 1.29503869 4.19052027 1.189131   3.63176426 0.01536672 2.07133597\n",
      " 1.97891624 2.40638649 0.94313972 1.03963926 1.41623375 3.62422027\n",
      " 2.10364379 0.66995832 0.18969645 2.21993873 0.49158975 1.95502477\n",
      " 1.61583125 0.89606863 3.45555019 3.07108077 1.87837049 2.05165935\n",
      " 2.85850786 0.67145504 3.84010428 3.39434749 0.52745215 1.26377748\n",
      " 0.41720813 2.77448716 1.99294645 3.82383027 0.72516474 3.42382414\n",
      " 0.8307734  2.43963768 3.55293348 4.34970055 1.44974501 3.86667322\n",
      " 4.62699426 0.61477003 3.33170937 2.36838333 4.67583524 4.07195152\n",
      " 2.1413905  3.74801721 2.49790899 0.70451821 1.55723313 3.61118924\n",
      " 0.49465462 0.43202627 0.66736958 1.7272182  4.87731843 4.35533197\n",
      " 2.58225497 4.11751195 1.71917766 0.64141866 4.5245514  2.6895538\n",
      " 3.93462061 2.82617979 1.87262272 1.53523509 1.43623842 0.01496055\n",
      " 4.47390769 0.01264645 0.60110688 1.4283362  1.65185043 1.93301996\n",
      " 3.74185902 4.39916473 1.65080338 4.59400922 0.75751808 2.34183683\n",
      " 0.7747445  4.19297808 2.83509396 2.66631752 4.44133241 2.5347166\n",
      " 2.99230538 0.4853865  0.20091044 0.96910364 1.30522532 0.42543315\n",
      " 4.15596393 2.56266119 2.86244874 4.46921929 1.73271166 0.67465161\n",
      " 3.63374547 1.79111274 3.53660202 0.02145445 1.49104999 3.11615045\n",
      " 2.17685684 2.65894097 1.16278465 0.91382905 3.72368437 1.77453485\n",
      " 1.14003535 3.6078947  2.91315968 3.81762447 2.98048389 2.23950209\n",
      " 1.18328862 2.54649164 3.99727111 2.34612313 3.53362218 2.14177294\n",
      " 1.26989693 4.58911253 2.21977465 2.14449366 3.9041596  1.13142377\n",
      " 1.67196947 4.15093684 1.62349872 2.57270114]\n"
     ]
    }
   ],
   "source": [
    "print(x)"
   ]
  },
  {
   "cell_type": "code",
   "execution_count": 22,
   "metadata": {},
   "outputs": [],
   "source": [
    "import matplotlib.pyplot as plt"
   ]
  },
  {
   "cell_type": "code",
   "execution_count": 23,
   "metadata": {},
   "outputs": [],
   "source": [
    "x = numpy.random.uniform(0.0, 5.0, 250)"
   ]
  },
  {
   "cell_type": "code",
   "execution_count": 24,
   "metadata": {},
   "outputs": [
    {
     "data": {
      "text/plain": [
       "(array([55., 45., 51., 52., 47.]),\n",
       " array([0.02153145, 1.01713542, 2.01273938, 3.00834334, 4.00394731,\n",
       "        4.99955127]),\n",
       " <a list of 5 Patch objects>)"
      ]
     },
     "execution_count": 24,
     "metadata": {},
     "output_type": "execute_result"
    },
    {
     "data": {
      "image/png": "[encoded data removed]",
      "text/plain": [
       "<Figure size 432x288 with 1 Axes>"
      ]
     },
     "metadata": {
      "needs_background": "light"
     },
     "output_type": "display_data"
    }
   ],
   "source": [
    "plt.hist(x, 5)"
   ]
  },
  {
   "cell_type": "code",
   "execution_count": 25,
   "metadata": {},
   "outputs": [],
   "source": [
    "plt.show()"
   ]
  },
  {
   "cell_type": "code",
   "execution_count": 26,
   "metadata": {},
   "outputs": [],
   "source": [
    "x = numpy.random.uniform(0.0, 5.0, 100000)"
   ]
  },
  {
   "cell_type": "code",
   "execution_count": 27,
   "metadata": {},
   "outputs": [
    {
     "data": {
      "text/plain": [
       "(array([1004.,  975.,  973., 1018.,  993.,  986., 1012., 1001., 1006.,\n",
       "        1027., 1050., 1013.,  927.,  987., 1031., 1039., 1003.,  969.,\n",
       "         976., 1038.,  973., 1055.,  994.,  989.,  982., 1045.,  964.,\n",
       "        1015., 1003., 1016., 1033.,  925.,  999., 1027.,  947., 1020.,\n",
       "         924.,  974., 1009., 1033., 1005.,  991., 1001.,  981., 1037.,\n",
       "         988.,  997.,  979.,  991.,  925.,  924., 1005.,  960., 1013.,\n",
       "         994., 1018., 1011., 1038., 1016., 1028.,  993., 1015.,  987.,\n",
       "        1001.,  993.,  948.,  998.,  969.,  949., 1012., 1012., 1003.,\n",
       "        1000., 1022., 1064., 1017., 1010.,  996., 1014.,  980., 1004.,\n",
       "        1008., 1057., 1005., 1012., 1005.,  950.,  968., 1008.,  954.,\n",
       "        1002.,  978., 1076., 1027., 1057.,  997., 1047., 1002.,  998.,\n",
       "        1005.]),\n",
       " array([1.94649340e-04, 5.01923012e-02, 1.00189953e-01, 1.50187605e-01,\n",
       "        2.00185257e-01, 2.50182909e-01, 3.00180561e-01, 3.50178213e-01,\n",
       "        4.00175864e-01, 4.50173516e-01, 5.00171168e-01, 5.50168820e-01,\n",
       "        6.00166472e-01, 6.50164124e-01, 7.00161776e-01, 7.50159428e-01,\n",
       "        8.00157080e-01, 8.50154731e-01, 9.00152383e-01, 9.50150035e-01,\n",
       "        1.00014769e+00, 1.05014534e+00, 1.10014299e+00, 1.15014064e+00,\n",
       "        1.20013829e+00, 1.25013595e+00, 1.30013360e+00, 1.35013125e+00,\n",
       "        1.40012890e+00, 1.45012655e+00, 1.50012421e+00, 1.55012186e+00,\n",
       "        1.60011951e+00, 1.65011716e+00, 1.70011481e+00, 1.75011247e+00,\n",
       "        1.80011012e+00, 1.85010777e+00, 1.90010542e+00, 1.95010307e+00,\n",
       "        2.00010072e+00, 2.05009838e+00, 2.10009603e+00, 2.15009368e+00,\n",
       "        2.20009133e+00, 2.25008898e+00, 2.30008664e+00, 2.35008429e+00,\n",
       "        2.40008194e+00, 2.45007959e+00, 2.50007724e+00, 2.55007490e+00,\n",
       "        2.60007255e+00, 2.65007020e+00, 2.70006785e+00, 2.75006550e+00,\n",
       "        2.80006316e+00, 2.85006081e+00, 2.90005846e+00, 2.95005611e+00,\n",
       "        3.00005376e+00, 3.05005141e+00, 3.10004907e+00, 3.15004672e+00,\n",
       "        3.20004437e+00, 3.25004202e+00, 3.30003967e+00, 3.35003733e+00,\n",
       "        3.40003498e+00, 3.45003263e+00, 3.50003028e+00, 3.55002793e+00,\n",
       "        3.60002559e+00, 3.65002324e+00, 3.70002089e+00, 3.75001854e+00,\n",
       "        3.80001619e+00, 3.85001384e+00, 3.90001150e+00, 3.95000915e+00,\n",
       "        4.00000680e+00, 4.05000445e+00, 4.10000210e+00, 4.14999976e+00,\n",
       "        4.19999741e+00, 4.24999506e+00, 4.29999271e+00, 4.34999036e+00,\n",
       "        4.39998802e+00, 4.44998567e+00, 4.49998332e+00, 4.54998097e+00,\n",
       "        4.59997862e+00, 4.64997628e+00, 4.69997393e+00, 4.74997158e+00,\n",
       "        4.79996923e+00, 4.84996688e+00, 4.89996453e+00, 4.94996219e+00,\n",
       "        4.99995984e+00]),\n",
       " <a list of 100 Patch objects>)"
      ]
     },
     "execution_count": 27,
     "metadata": {},
     "output_type": "execute_result"
    },
    {
     "data": {
      "image/png": "[encoded data removed]",
      "text/plain": [
       "<Figure size 432x288 with 1 Axes>"
      ]
     },
     "metadata": {
      "needs_background": "light"
     },
     "output_type": "display_data"
    }
   ],
   "source": [
    "plt.hist(x, 100)"
   ]
  },
  {
   "cell_type": "code",
   "execution_count": 28,
   "metadata": {},
   "outputs": [],
   "source": [
    "x = numpy.random.normal(5.0, 1.0, 100000)"
   ]
  },
  {
   "cell_type": "code",
   "execution_count": 29,
   "metadata": {},
   "outputs": [
    {
     "data": {
      "text/plain": [
       "(array([1.000e+00, 1.000e+00, 0.000e+00, 1.000e+00, 2.000e+00, 4.000e+00,\n",
       "        6.000e+00, 2.000e+00, 1.400e+01, 1.300e+01, 1.400e+01, 2.700e+01,\n",
       "        2.900e+01, 6.500e+01, 5.600e+01, 9.000e+01, 1.000e+02, 1.370e+02,\n",
       "        1.510e+02, 2.010e+02, 2.460e+02, 2.810e+02, 3.260e+02, 4.100e+02,\n",
       "        5.250e+02, 6.260e+02, 6.940e+02, 8.680e+02, 9.350e+02, 1.149e+03,\n",
       "        1.225e+03, 1.484e+03, 1.564e+03, 1.815e+03, 2.027e+03, 2.111e+03,\n",
       "        2.464e+03, 2.460e+03, 2.672e+03, 2.886e+03, 3.157e+03, 3.101e+03,\n",
       "        3.310e+03, 3.449e+03, 3.486e+03, 3.460e+03, 3.505e+03, 3.493e+03,\n",
       "        3.527e+03, 3.394e+03, 3.394e+03, 3.216e+03, 3.117e+03, 2.858e+03,\n",
       "        2.787e+03, 2.669e+03, 2.508e+03, 2.233e+03, 2.088e+03, 1.745e+03,\n",
       "        1.693e+03, 1.420e+03, 1.379e+03, 1.095e+03, 9.910e+02, 8.710e+02,\n",
       "        7.950e+02, 6.330e+02, 5.540e+02, 4.460e+02, 4.040e+02, 2.980e+02,\n",
       "        2.390e+02, 2.000e+02, 1.750e+02, 1.400e+02, 1.080e+02, 8.600e+01,\n",
       "        7.200e+01, 5.300e+01, 5.000e+01, 3.400e+01, 2.500e+01, 1.600e+01,\n",
       "        1.500e+01, 1.000e+01, 1.000e+00, 4.000e+00, 7.000e+00, 4.000e+00,\n",
       "        1.000e+00, 0.000e+00, 1.000e+00, 0.000e+00, 0.000e+00, 0.000e+00,\n",
       "        0.000e+00, 0.000e+00, 0.000e+00, 1.000e+00]),\n",
       " array([0.85216938, 0.94101687, 1.02986436, 1.11871185, 1.20755933,\n",
       "        1.29640682, 1.38525431, 1.4741018 , 1.56294929, 1.65179678,\n",
       "        1.74064426, 1.82949175, 1.91833924, 2.00718673, 2.09603422,\n",
       "        2.18488171, 2.27372919, 2.36257668, 2.45142417, 2.54027166,\n",
       "        2.62911915, 2.71796663, 2.80681412, 2.89566161, 2.9845091 ,\n",
       "        3.07335659, 3.16220408, 3.25105156, 3.33989905, 3.42874654,\n",
       "        3.51759403, 3.60644152, 3.695289  , 3.78413649, 3.87298398,\n",
       "        3.96183147, 4.05067896, 4.13952645, 4.22837393, 4.31722142,\n",
       "        4.40606891, 4.4949164 , 4.58376389, 4.67261137, 4.76145886,\n",
       "        4.85030635, 4.93915384, 5.02800133, 5.11684882, 5.2056963 ,\n",
       "        5.29454379, 5.38339128, 5.47223877, 5.56108626, 5.64993375,\n",
       "        5.73878123, 5.82762872, 5.91647621, 6.0053237 , 6.09417119,\n",
       "        6.18301867, 6.27186616, 6.36071365, 6.44956114, 6.53840863,\n",
       "        6.62725612, 6.7161036 , 6.80495109, 6.89379858, 6.98264607,\n",
       "        7.07149356, 7.16034104, 7.24918853, 7.33803602, 7.42688351,\n",
       "        7.515731  , 7.60457849, 7.69342597, 7.78227346, 7.87112095,\n",
       "        7.95996844, 8.04881593, 8.13766342, 8.2265109 , 8.31535839,\n",
       "        8.40420588, 8.49305337, 8.58190086, 8.67074834, 8.75959583,\n",
       "        8.84844332, 8.93729081, 9.0261383 , 9.11498579, 9.20383327,\n",
       "        9.29268076, 9.38152825, 9.47037574, 9.55922323, 9.64807071,\n",
       "        9.7369182 ]),\n",
       " <a list of 100 Patch objects>)"
      ]
     },
     "execution_count": 29,
     "metadata": {},
     "output_type": "execute_result"
    },
    {
     "data": {
      "image/png": "[encoded data removed]",
      "text/plain": [
       "<Figure size 432x288 with 1 Axes>"
      ]
     },
     "metadata": {
      "needs_background": "light"
     },
     "output_type": "display_data"
    }
   ],
   "source": [
    "plt.hist(x, 100)"
   ]
  },
  {
   "cell_type": "code",
   "execution_count": 30,
   "metadata": {},
   "outputs": [],
   "source": [
    "x = [5,7,8,7,2,17,2,9,4,11,12,9,6]"
   ]
  },
  {
   "cell_type": "code",
   "execution_count": 31,
   "metadata": {},
   "outputs": [],
   "source": [
    "y = [99,86,87,88,111,86,103,87,94,78,77,85,86]"
   ]
  },
  {
   "cell_type": "code",
   "execution_count": 32,
   "metadata": {},
   "outputs": [
    {
     "data": {
      "text/plain": [
       "<matplotlib.collections.PathCollection at 0x245c6d49e10>"
      ]
     },
     "execution_count": 32,
     "metadata": {},
     "output_type": "execute_result"
    },
    {
     "data": {
      "image/png": "[encoded data removed]",
      "text/plain": [
       "<Figure size 432x288 with 1 Axes>"
      ]
     },
     "metadata": {
      "needs_background": "light"
     },
     "output_type": "display_data"
    }
   ],
   "source": [
    "plt.scatter(x,y)"
   ]
  },
  {
   "cell_type": "code",
   "execution_count": 33,
   "metadata": {},
   "outputs": [],
   "source": [
    "x = numpy.random.normal(5.0, 1.0, 1000)"
   ]
  },
  {
   "cell_type": "code",
   "execution_count": 34,
   "metadata": {},
   "outputs": [],
   "source": [
    "y = numpy.random.normal(10.0, 2.0, 1000)"
   ]
  },
  {
   "cell_type": "code",
   "execution_count": 35,
   "metadata": {},
   "outputs": [
    {
     "data": {
      "text/plain": [
       "<matplotlib.collections.PathCollection at 0x245c6dbe160>"
      ]
     },
     "execution_count": 35,
     "metadata": {},
     "output_type": "execute_result"
    },
    {
     "data": {
      "image/png": "[encoded data removed]",
      "text/plain": [
       "<Figure size 432x288 with 1 Axes>"
      ]
     },
     "metadata": {
      "needs_background": "light"
     },
     "output_type": "display_data"
    }
   ],
   "source": [
    "plt.scatter(x,y)"
   ]
  },
  {
   "cell_type": "code",
   "execution_count": 36,
   "metadata": {},
   "outputs": [],
   "source": [
    "x = [5,7,8,7,2,17,2,9,4,11,12,9,6]"
   ]
  },
  {
   "cell_type": "code",
   "execution_count": 37,
   "metadata": {},
   "outputs": [],
   "source": [
    "y = [99,86,87,88,111,86,103,87,94,78,77,85,86]"
   ]
  },
  {
   "cell_type": "code",
   "execution_count": 38,
   "metadata": {},
   "outputs": [
    {
     "data": {
      "text/plain": [
       "<matplotlib.collections.PathCollection at 0x245c6e220b8>"
      ]
     },
     "execution_count": 38,
     "metadata": {},
     "output_type": "execute_result"
    },
    {
     "data": {
      "image/png": "[encoded data removed]",
      "text/plain": [
       "<Figure size 432x288 with 1 Axes>"
      ]
     },
     "metadata": {
      "needs_background": "light"
     },
     "output_type": "display_data"
    }
   ],
   "source": [
    "plt.scatter(x,y)"
   ]
  },
  {
   "cell_type": "code",
   "execution_count": 39,
   "metadata": {},
   "outputs": [],
   "source": [
    "from scipy import stats"
   ]
  },
  {
   "cell_type": "code",
   "execution_count": 40,
   "metadata": {},
   "outputs": [],
   "source": [
    "slope, intercept, r, p, std_err = stats.linregress(x,y)"
   ]
  },
  {
   "cell_type": "code",
   "execution_count": 41,
   "metadata": {},
   "outputs": [],
   "source": [
    "def myfunc(x):\n",
    "    return slope * x + intercept\n",
    "\n",
    "mymodel = list(map(myfunc, x))"
   ]
  },
  {
   "cell_type": "code",
   "execution_count": 46,
   "metadata": {},
   "outputs": [
    {
     "data": {
      "text/plain": [
       "[<matplotlib.lines.Line2D at 0x245c83715f8>]"
      ]
     },
     "execution_count": 46,
     "metadata": {},
     "output_type": "execute_result"
    },
    {
     "data": {
      "image/png": "[encoded data removed]",
      "text/plain": [
       "<Figure size 432x288 with 1 Axes>"
      ]
     },
     "metadata": {
      "needs_background": "light"
     },
     "output_type": "display_data"
    }
   ],
   "source": [
    "plt.scatter(x,y)\n",
    "plt.plot(x,mymodel)"
   ]
  },
  {
   "cell_type": "code",
   "execution_count": 47,
   "metadata": {},
   "outputs": [
    {
     "name": "stdout",
     "output_type": "stream",
     "text": [
      "-0.758591524376155\n"
     ]
    }
   ],
   "source": [
    "print(r)"
   ]
  },
  {
   "cell_type": "code",
   "execution_count": 48,
   "metadata": {},
   "outputs": [],
   "source": [
    "speed = myfunc(10)"
   ]
  },
  {
   "cell_type": "code",
   "execution_count": 49,
   "metadata": {},
   "outputs": [
    {
     "name": "stdout",
     "output_type": "stream",
     "text": [
      "85.59308314937454\n"
     ]
    }
   ],
   "source": [
    "print(speed)"
   ]
  },
  {
   "cell_type": "code",
   "execution_count": 1,
   "metadata": {},
   "outputs": [
    {
     "name": "stdout",
     "output_type": "stream",
     "text": [
      "Collecting package metadata (current_repodata.json): ...working... done\n",
      "Solving environment: ...working... \n",
      "The environment is inconsistent, please check the package plan carefully\n",
      "The following packages are causing the inconsistency:\n",
      "\n",
      "  - defaults/win-64::anaconda==2019.07=py37_0\n",
      "  - defaults/win-64::numba==0.44.1=py37hf9181ef_0\n",
      "done\n",
      "\n",
      "## Package Plan ##\n",
      "\n",
      "  environment location: C:\\Users\\gwerv\\Anaconda3\n",
      "\n",
      "  added / updated specs:\n",
      "    - selenium\n",
      "\n",
      "\n",
      "The following packages will be downloaded:\n",
      "\n",
      "    package                    |            build\n",
      "    ---------------------------|-----------------\n",
      "    _anaconda_depends-2019.03  |           py37_0           6 KB\n",
      "    anaconda-custom            |           py37_1           3 KB\n",
      "    ca-certificates-2020.1.1   |                0         125 KB\n",
      "    certifi-2019.11.28         |           py37_0         154 KB\n",
      "    conda-4.8.2                |           py37_0         2.8 MB\n",
      "    selenium-3.141.0           |   py37he774522_0         805 KB\n",
      "    tbb-2019.4                 |       h74a9793_0         156 KB\n",
      "    ------------------------------------------------------------\n",
      "                                           Total:         4.1 MB\n",
      "\n",
      "The following NEW packages will be INSTALLED:\n",
      "\n",
      "  _anaconda_depends  pkgs/main/win-64::_anaconda_depends-2019.03-py37_0\n",
      "  selenium           pkgs/main/win-64::selenium-3.141.0-py37he774522_0\n",
      "  tbb                pkgs/main/win-64::tbb-2019.4-h74a9793_0\n",
      "\n",
      "The following packages will be UPDATED:\n",
      "\n",
      "  ca-certificates     anaconda::ca-certificates-2019.5.15-0 --> pkgs/main::ca-certificates-2020.1.1-0\n",
      "  certifi                anaconda::certifi-2019.6.16-py37_0 --> pkgs/main::certifi-2019.11.28-py37_0\n",
      "\n",
      "The following packages will be SUPERSEDED by a higher-priority channel:\n",
      "\n",
      "  conda                                            anaconda --> pkgs/main\n",
      "\n",
      "The following packages will be DOWNGRADED:\n",
      "\n",
      "  anaconda                                   2019.07-py37_0 --> custom-py37_1\n",
      "\n",
      "\n",
      "\n",
      "Downloading and Extracting Packages\n",
      "\n",
      "anaconda-custom      | 3 KB      |            |   0% \n",
      "anaconda-custom      | 3 KB      | ########## | 100% \n",
      "\n",
      "tbb-2019.4           | 156 KB    |            |   0% \n",
      "tbb-2019.4           | 156 KB    | #          |  10% \n",
      "tbb-2019.4           | 156 KB    | ###        |  31% \n",
      "tbb-2019.4           | 156 KB    | ########2  |  82% \n",
      "tbb-2019.4           | 156 KB    | ########## | 100% \n",
      "\n",
      "conda-4.8.2          | 2.8 MB    |            |   0% \n",
      "conda-4.8.2          | 2.8 MB    |            |   1% \n",
      "conda-4.8.2          | 2.8 MB    | 3          |   4% \n",
      "conda-4.8.2          | 2.8 MB    | 9          |   9% \n",
      "conda-4.8.2          | 2.8 MB    | #3         |  13% \n",
      "conda-4.8.2          | 2.8 MB    | #8         |  18% \n",
      "conda-4.8.2          | 2.8 MB    | ##1        |  21% \n",
      "conda-4.8.2          | 2.8 MB    | ##6        |  27% \n",
      "conda-4.8.2          | 2.8 MB    | ###        |  30% \n",
      "conda-4.8.2          | 2.8 MB    | ###4       |  35% \n",
      "conda-4.8.2          | 2.8 MB    | ###8       |  39% \n",
      "conda-4.8.2          | 2.8 MB    | ####4      |  45% \n",
      "conda-4.8.2          | 2.8 MB    | ####9      |  49% \n",
      "conda-4.8.2          | 2.8 MB    | #####3     |  53% \n",
      "conda-4.8.2          | 2.8 MB    | #####7     |  57% \n",
      "conda-4.8.2          | 2.8 MB    | ######1    |  61% \n",
      "conda-4.8.2          | 2.8 MB    | ######5    |  65% \n",
      "conda-4.8.2          | 2.8 MB    | ######8    |  68% \n",
      "conda-4.8.2          | 2.8 MB    | #######1   |  72% \n",
      "conda-4.8.2          | 2.8 MB    | #######6   |  77% \n",
      "conda-4.8.2          | 2.8 MB    | #######9   |  80% \n",
      "conda-4.8.2          | 2.8 MB    | ########5  |  85% \n",
      "conda-4.8.2          | 2.8 MB    | #########  |  90% \n",
      "conda-4.8.2          | 2.8 MB    | #########4 |  94% \n",
      "conda-4.8.2          | 2.8 MB    | #########8 |  98% \n",
      "conda-4.8.2          | 2.8 MB    | ########## | 100% \n",
      "\n",
      "_anaconda_depends-20 | 6 KB      |            |   0% \n",
      "_anaconda_depends-20 | 6 KB      | ########## | 100% \n",
      "\n",
      "ca-certificates-2020 | 125 KB    |            |   0% \n",
      "ca-certificates-2020 | 125 KB    | #######6   |  77% \n",
      "ca-certificates-2020 | 125 KB    | ########## | 100% \n",
      "\n",
      "certifi-2019.11.28   | 154 KB    |            |   0% \n",
      "certifi-2019.11.28   | 154 KB    | #######2   |  73% \n",
      "certifi-2019.11.28   | 154 KB    | ########## | 100% \n",
      "\n",
      "selenium-3.141.0     | 805 KB    |            |   0% \n",
      "selenium-3.141.0     | 805 KB    | 1          |   2% \n",
      "selenium-3.141.0     | 805 KB    | ##9        |  30% \n",
      "selenium-3.141.0     | 805 KB    | #####1     |  52% \n",
      "selenium-3.141.0     | 805 KB    | ######5    |  66% \n",
      "selenium-3.141.0     | 805 KB    | #######9   |  79% \n",
      "selenium-3.141.0     | 805 KB    | #########5 |  95% \n",
      "selenium-3.141.0     | 805 KB    | ########## | 100% \n",
      "Preparing transaction: ...working... done\n",
      "Verifying transaction: ...working... done\n",
      "Executing transaction: ...working... done\n",
      "\n",
      "Note: you may need to restart the kernel to use updated packages.\n"
     ]
    }
   ],
   "source": [
    "conda install selenium"
   ]
  },
  {
   "cell_type": "code",
   "execution_count": 2,
   "metadata": {},
   "outputs": [
    {
     "ename": "NameError",
     "evalue": "name 'numpy' is not defined",
     "output_type": "error",
     "traceback": [
      "\u001b[1;31m---------------------------------------------------------------------------\u001b[0m",
      "\u001b[1;31mNameError\u001b[0m                                 Traceback (most recent call last)",
      "\u001b[1;32m<ipython-input-2-3910f08a3128>\u001b[0m in \u001b[0;36m<module>\u001b[1;34m\u001b[0m\n\u001b[1;32m----> 1\u001b[1;33m \u001b[0mmymodel\u001b[0m \u001b[1;33m=\u001b[0m \u001b[0mnumpy\u001b[0m\u001b[1;33m.\u001b[0m\u001b[0mpoly1d\u001b[0m\u001b[1;33m(\u001b[0m\u001b[0mnumpy\u001b[0m\u001b[1;33m.\u001b[0m\u001b[0mpolyfit\u001b[0m\u001b[1;33m(\u001b[0m\u001b[0mx\u001b[0m\u001b[1;33m,\u001b[0m\u001b[0my\u001b[0m\u001b[1;33m,\u001b[0m\u001b[1;36m3\u001b[0m\u001b[1;33m)\u001b[0m\u001b[1;33m)\u001b[0m\u001b[1;33m\u001b[0m\u001b[1;33m\u001b[0m\u001b[0m\n\u001b[0m",
      "\u001b[1;31mNameError\u001b[0m: name 'numpy' is not defined"
     ]
    }
   ],
   "source": [
    "mymodel = numpy.poly1d(numpy.polyfit(x,y,3))"
   ]
  },
  {
   "cell_type": "code",
   "execution_count": 3,
   "metadata": {},
   "outputs": [],
   "source": [
    "import numpy"
   ]
  },
  {
   "cell_type": "code",
   "execution_count": 4,
   "metadata": {},
   "outputs": [
    {
     "ename": "NameError",
     "evalue": "name 'x' is not defined",
     "output_type": "error",
     "traceback": [
      "\u001b[1;31m---------------------------------------------------------------------------\u001b[0m",
      "\u001b[1;31mNameError\u001b[0m                                 Traceback (most recent call last)",
      "\u001b[1;32m<ipython-input-4-3910f08a3128>\u001b[0m in \u001b[0;36m<module>\u001b[1;34m\u001b[0m\n\u001b[1;32m----> 1\u001b[1;33m \u001b[0mmymodel\u001b[0m \u001b[1;33m=\u001b[0m \u001b[0mnumpy\u001b[0m\u001b[1;33m.\u001b[0m\u001b[0mpoly1d\u001b[0m\u001b[1;33m(\u001b[0m\u001b[0mnumpy\u001b[0m\u001b[1;33m.\u001b[0m\u001b[0mpolyfit\u001b[0m\u001b[1;33m(\u001b[0m\u001b[0mx\u001b[0m\u001b[1;33m,\u001b[0m\u001b[0my\u001b[0m\u001b[1;33m,\u001b[0m\u001b[1;36m3\u001b[0m\u001b[1;33m)\u001b[0m\u001b[1;33m)\u001b[0m\u001b[1;33m\u001b[0m\u001b[1;33m\u001b[0m\u001b[0m\n\u001b[0m",
      "\u001b[1;31mNameError\u001b[0m: name 'x' is not defined"
     ]
    }
   ],
   "source": [
    "mymodel = numpy.poly1d(numpy.polyfit(x,y,3))"
   ]
  },
  {
   "cell_type": "code",
   "execution_count": 1,
   "metadata": {},
   "outputs": [],
   "source": [
    "x = [1,2,3,5,6,7,8,9,10,12,13,14,15,16,18,19,21,22]\n",
    "y = [100,90,80,60,60,55,60,65,70,70,75,76,78,79,90,99,99,100]"
   ]
  },
  {
   "cell_type": "code",
   "execution_count": 2,
   "metadata": {},
   "outputs": [
    {
     "ename": "NameError",
     "evalue": "name 'plt' is not defined",
     "output_type": "error",
     "traceback": [
      "\u001b[1;31m---------------------------------------------------------------------------\u001b[0m",
      "\u001b[1;31mNameError\u001b[0m                                 Traceback (most recent call last)",
      "\u001b[1;32m<ipython-input-2-964dc56e0d0d>\u001b[0m in \u001b[0;36m<module>\u001b[1;34m\u001b[0m\n\u001b[1;32m----> 1\u001b[1;33m \u001b[0mplt\u001b[0m\u001b[1;33m.\u001b[0m\u001b[0mscatter\u001b[0m\u001b[1;33m(\u001b[0m\u001b[0mx\u001b[0m\u001b[1;33m,\u001b[0m\u001b[0my\u001b[0m\u001b[1;33m)\u001b[0m\u001b[1;33m\u001b[0m\u001b[1;33m\u001b[0m\u001b[0m\n\u001b[0m",
      "\u001b[1;31mNameError\u001b[0m: name 'plt' is not defined"
     ]
    }
   ],
   "source": [
    "plt.scatter(x,y)"
   ]
  },
  {
   "cell_type": "code",
   "execution_count": 3,
   "metadata": {},
   "outputs": [],
   "source": [
    "import numpy"
   ]
  },
  {
   "cell_type": "code",
   "execution_count": 4,
   "metadata": {},
   "outputs": [],
   "source": [
    "import scipy"
   ]
  },
  {
   "cell_type": "code",
   "execution_count": 5,
   "metadata": {},
   "outputs": [],
   "source": [
    "import matplotlib"
   ]
  },
  {
   "cell_type": "code",
   "execution_count": 6,
   "metadata": {},
   "outputs": [
    {
     "ename": "NameError",
     "evalue": "name 'plt' is not defined",
     "output_type": "error",
     "traceback": [
      "\u001b[1;31m---------------------------------------------------------------------------\u001b[0m",
      "\u001b[1;31mNameError\u001b[0m                                 Traceback (most recent call last)",
      "\u001b[1;32m<ipython-input-6-964dc56e0d0d>\u001b[0m in \u001b[0;36m<module>\u001b[1;34m\u001b[0m\n\u001b[1;32m----> 1\u001b[1;33m \u001b[0mplt\u001b[0m\u001b[1;33m.\u001b[0m\u001b[0mscatter\u001b[0m\u001b[1;33m(\u001b[0m\u001b[0mx\u001b[0m\u001b[1;33m,\u001b[0m\u001b[0my\u001b[0m\u001b[1;33m)\u001b[0m\u001b[1;33m\u001b[0m\u001b[1;33m\u001b[0m\u001b[0m\n\u001b[0m",
      "\u001b[1;31mNameError\u001b[0m: name 'plt' is not defined"
     ]
    }
   ],
   "source": [
    "plt.scatter(x,y)"
   ]
  },
  {
   "cell_type": "code",
   "execution_count": 7,
   "metadata": {},
   "outputs": [],
   "source": [
    "import matplotlib.pyplot as plt"
   ]
  },
  {
   "cell_type": "code",
   "execution_count": 8,
   "metadata": {},
   "outputs": [
    {
     "data": {
      "text/plain": [
       "<matplotlib.collections.PathCollection at 0x194cf2aceb8>"
      ]
     },
     "execution_count": 8,
     "metadata": {},
     "output_type": "execute_result"
    },
    {
     "data": {
      "image/png": "[encoded data removed]",
      "text/plain": [
       "<Figure size 432x288 with 1 Axes>"
      ]
     },
     "metadata": {
      "needs_background": "light"
     },
     "output_type": "display_data"
    }
   ],
   "source": [
    "plt.scatter(x,y)"
   ]
  },
  {
   "cell_type": "code",
   "execution_count": 10,
   "metadata": {},
   "outputs": [],
   "source": [
    "mymodel = numpy.poly1d(numpy.polyfit(x,y,3))"
   ]
  },
  {
   "cell_type": "code",
   "execution_count": 11,
   "metadata": {},
   "outputs": [],
   "source": [
    "myline = numpy.linspace(1,22,100)"
   ]
  },
  {
   "cell_type": "code",
   "execution_count": 14,
   "metadata": {},
   "outputs": [
    {
     "data": {
      "text/plain": [
       "[<matplotlib.lines.Line2D at 0x194cf3e47f0>]"
      ]
     },
     "execution_count": 14,
     "metadata": {},
     "output_type": "execute_result"
    },
    {
     "data": {
      "image/png": "[encoded data removed]",
      "text/plain": [
       "<Figure size 432x288 with 1 Axes>"
      ]
     },
     "metadata": {
      "needs_background": "light"
     },
     "output_type": "display_data"
    }
   ],
   "source": [
    "plt.scatter(x,y)\n",
    "plt.plot(myline, mymodel(myline))"
   ]
  },
  {
   "cell_type": "code",
   "execution_count": 15,
   "metadata": {},
   "outputs": [],
   "source": [
    "from sklearn.metrics import r2_score"
   ]
  },
  {
   "cell_type": "code",
   "execution_count": 16,
   "metadata": {},
   "outputs": [
    {
     "name": "stdout",
     "output_type": "stream",
     "text": [
      "0.9432150416451027\n"
     ]
    }
   ],
   "source": [
    "print(r2_score(y, mymodel(x)))"
   ]
  },
  {
   "cell_type": "code",
   "execution_count": 17,
   "metadata": {},
   "outputs": [],
   "source": [
    "speed = mymodel(17)"
   ]
  },
  {
   "cell_type": "code",
   "execution_count": 18,
   "metadata": {},
   "outputs": [
    {
     "name": "stdout",
     "output_type": "stream",
     "text": [
      "88.87331269697987\n"
     ]
    }
   ],
   "source": [
    "print(speed)"
   ]
  },
  {
   "cell_type": "code",
   "execution_count": 19,
   "metadata": {},
   "outputs": [],
   "source": [
    "x = [89,43,36,36,95,10,66,34,38,20,26,29,48,64,6,5,36,66,72,40]\n",
    "y = [21,46,3,35,67,95,53,72,58,10,26,34,90,33,38,20,56,2,47,15]"
   ]
  },
  {
   "cell_type": "code",
   "execution_count": 20,
   "metadata": {},
   "outputs": [],
   "source": [
    "mymodel = numpy.poly1d(numpy.polyfit(x, y, 3))\n",
    "myline = numpy.linspace(2, 95, 100)"
   ]
  },
  {
   "cell_type": "code",
   "execution_count": 21,
   "metadata": {},
   "outputs": [
    {
     "data": {
      "text/plain": [
       "[<matplotlib.lines.Line2D at 0x194d096ba90>]"
      ]
     },
     "execution_count": 21,
     "metadata": {},
     "output_type": "execute_result"
    },
    {
     "data": {
      "image/png": "[encoded data removed]",
      "text/plain": [
       "<Figure size 432x288 with 1 Axes>"
      ]
     },
     "metadata": {
      "needs_background": "light"
     },
     "output_type": "display_data"
    }
   ],
   "source": [
    "plt.scatter(x, y)\n",
    "plt.plot(myline, mymodel(myline))"
   ]
  },
  {
   "cell_type": "code",
   "execution_count": 22,
   "metadata": {},
   "outputs": [
    {
     "name": "stdout",
     "output_type": "stream",
     "text": [
      "0.009952707566680652\n"
     ]
    }
   ],
   "source": [
    "print(r2_score(y, mymodel(x)))"
   ]
  },
  {
   "cell_type": "code",
   "execution_count": 23,
   "metadata": {},
   "outputs": [],
   "source": [
    "import pandas"
   ]
  },
  {
   "cell_type": "code",
   "execution_count": 25,
   "metadata": {},
   "outputs": [],
   "source": [
    "df = pandas.read_csv(\"PGA.csv\")"
   ]
  },
  {
   "cell_type": "code",
   "execution_count": 26,
   "metadata": {},
   "outputs": [],
   "source": [
    "X = df[['DISTANCE', 'ACCURACY']]\n",
    "y = df['INDEX']"
   ]
  },
  {
   "cell_type": "code",
   "execution_count": 27,
   "metadata": {},
   "outputs": [],
   "source": [
    "from sklearn import linear_model"
   ]
  },
  {
   "cell_type": "code",
   "execution_count": 28,
   "metadata": {},
   "outputs": [
    {
     "data": {
      "text/plain": [
       "LinearRegression(copy_X=True, fit_intercept=True, n_jobs=None, normalize=False)"
      ]
     },
     "execution_count": 28,
     "metadata": {},
     "output_type": "execute_result"
    }
   ],
   "source": [
    "regr = linear_model.LinearRegression()\n",
    "regr.fit(X, y)"
   ]
  },
  {
   "cell_type": "code",
   "execution_count": 29,
   "metadata": {},
   "outputs": [],
   "source": [
    "predictedIndex = regr.predict([[500, 70.3]])"
   ]
  },
  {
   "cell_type": "code",
   "execution_count": 30,
   "metadata": {},
   "outputs": [
    {
     "name": "stdout",
     "output_type": "stream",
     "text": [
      "[45.5020838]\n"
     ]
    }
   ],
   "source": [
    "print(predictedIndex)"
   ]
  },
  {
   "cell_type": "code",
   "execution_count": 31,
   "metadata": {},
   "outputs": [
    {
     "name": "stdout",
     "output_type": "stream",
     "text": [
      "[0.20620533 0.25423188]\n"
     ]
    }
   ],
   "source": [
    "print(regr.coef_)"
   ]
  },
  {
   "cell_type": "code",
   "execution_count": 32,
   "metadata": {},
   "outputs": [],
   "source": [
    "#If DISTANCE increases by 1.0, INDEX increases by 0.206 and if ACCURACY increases by 1.0, INDEX increases by 0.254"
   ]
  },
  {
   "cell_type": "code",
   "execution_count": null,
   "metadata": {},
   "outputs": [],
   "source": []
  }
 ],
 "metadata": {
  "kernelspec": {
   "display_name": "Python 3",
   "language": "python",
   "name": "python3"
  },
  "language_info": {
   "codemirror_mode": {
    "name": "ipython",
    "version": 3
   },
   "file_extension": ".py",
   "mimetype": "text/x-python",
   "name": "python",
   "nbconvert_exporter": "python",
   "pygments_lexer": "ipython3",
   "version": "3.7.3"
  }
 },
 "nbformat": 4,
 "nbformat_minor": 2
}
